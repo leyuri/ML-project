{
 "cells": [
  {
   "cell_type": "code",
   "execution_count": null,
   "metadata": {},
   "outputs": [],
   "source": [
    "import pandas as pd\n",
    "import numpy as np\n",
    "import matplotlib as mpl\n",
    "import matplotlib.pyplot as plt\n",
    "# import seaborn as sns\n",
    "# from scipy import stats\n",
    "from matplotlib import rc\n",
    "# import missingno as msno\n",
    "\n",
    "#엑셀파일 읽어오기\n",
    "train_df = pd.read_csv('./train_data.csv')\n",
    "train_df.head()\n",
    "\n",
    "#Target 파일 읽어오기\n",
    "train_df_target = pd.read_csv('./train_target.csv')\n",
    "train_df_target.head()"
   ]
  },
  {
   "cell_type": "code",
   "execution_count": null,
   "metadata": {},
   "outputs": [],
   "source": [
    "#테스트 데이터 추출\n",
    "# train_dataFrame = train_df.drop(train_df.index[66452:])\n",
    "# train_target_dataFrame = train_df_target.drop(train_df.index[66452:])\n",
    "# train_after_dataFrame = train_df.drop(train_df.index[:66452])\n",
    "# train_target_after_dataFrame = train_df_target.drop(train_df.index[:66452])"
   ]
  },
  {
   "cell_type": "code",
   "execution_count": null,
   "metadata": {},
   "outputs": [],
   "source": [
    "train_dataFrame = train_df.iloc[:66452,:]\n",
    "train_target_dataFrame = train_df_target.iloc[:66452,:]\n",
    "train_after_dataFrame = train_df.iloc[66452:,:]\n",
    "train_target_after_dataFrame = train_df_target.iloc[66452:,:]"
   ]
  },
  {
   "cell_type": "code",
   "execution_count": null,
   "metadata": {},
   "outputs": [],
   "source": [
    "#set_index 설정하기\n",
    "train_dataFrame = train_dataFrame.set_index(['td', 'code'])\n",
    "train_target_dataFrame = train_target_dataFrame.set_index(['td', 'code'])\n",
    "train_after_dataFrame = train_after_dataFrame.set_index(['td', 'code'])\n",
    "train_target_after_dataFrame = train_target_after_dataFrame.set_index(['td', 'code'])\n",
    "\n",
    "# #NaN fillna\n",
    "train_dataFrame.fillna(train_dataFrame.mean(), inplace=True)\n",
    "train_after_dataFrame.fillna(train_after_dataFrame.mean(), inplace=True)\n",
    "train_after_dataFrame.head()"
   ]
  },
  {
   "cell_type": "code",
   "execution_count": null,
   "metadata": {},
   "outputs": [],
   "source": [
    ">>> from sklearn.ensemble import RandomForestRegressor\n",
    ">>> from sklearn.datasets import make_regression"
   ]
  },
  {
   "cell_type": "code",
   "execution_count": null,
   "metadata": {},
   "outputs": [],
   "source": [
    "regr = RandomForestRegressor(max_depth=2, random_state=0,n_estimators=100)"
   ]
  },
  {
   "cell_type": "code",
   "execution_count": null,
   "metadata": {},
   "outputs": [],
   "source": [
    "regr.fit(train_dataFrame, train_target_dataFrame)"
   ]
  },
  {
   "cell_type": "code",
   "execution_count": null,
   "metadata": {},
   "outputs": [],
   "source": [
    "print(regr.feature_importances_)"
   ]
  },
  {
   "cell_type": "code",
   "execution_count": null,
   "metadata": {},
   "outputs": [],
   "source": []
  },
  {
   "cell_type": "code",
   "execution_count": null,
   "metadata": {},
   "outputs": [],
   "source": []
  },
  {
   "cell_type": "code",
   "execution_count": null,
   "metadata": {},
   "outputs": [],
   "source": [
    "\n"
   ]
  },
  {
   "cell_type": "code",
   "execution_count": null,
   "metadata": {},
   "outputs": [],
   "source": []
  }
 ],
 "metadata": {
  "kernelspec": {
   "display_name": "Python 3",
   "language": "python",
   "name": "python3"
  },
  "language_info": {
   "codemirror_mode": {
    "name": "ipython",
    "version": 3
   },
   "file_extension": ".py",
   "mimetype": "text/x-python",
   "name": "python",
   "nbconvert_exporter": "python",
   "pygments_lexer": "ipython3",
   "version": "3.7.3"
  }
 },
 "nbformat": 4,
 "nbformat_minor": 2
}
